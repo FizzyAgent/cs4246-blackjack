{
 "cells": [
  {
   "cell_type": "code",
   "execution_count": null,
   "outputs": [],
   "source": [
    "import os\n",
    "from typing import *\n",
    "\n",
    "from game.api import BlackjackWrapper\n",
    "from game.models.model import *\n",
    "from training.agent import BlackjackDQN"
   ],
   "metadata": {
    "collapsed": false
   }
  },
  {
   "cell_type": "code",
   "execution_count": null,
   "outputs": [],
   "source": [
    "device = torch.device(\"cuda:0\" if torch.cuda.is_available() else \"cpu\")\n",
    "device"
   ],
   "metadata": {
    "collapsed": false
   }
  },
  {
   "cell_type": "code",
   "execution_count": null,
   "outputs": [],
   "source": [
    "def evaluate_agent(\n",
    "    game_wrapper: BlackjackWrapper,\n",
    "    dqn_model: BlackjackDQN,\n",
    "    num_eps: int,\n",
    "    max_steps: int = 10,\n",
    "    add_steps: bool = False,\n",
    "    add_card_counting: bool = True,\n",
    ") -> Tuple[float, float, float]:\n",
    "    rewards: List[float] = []\n",
    "\n",
    "    for i_eps in range(num_eps):\n",
    "        game_wrapper = game_wrapper.reset()\n",
    "        state = game_wrapper.get_state()\n",
    "        eps_reward = 0.0\n",
    "        for i_step in range(max_steps):\n",
    "            step_num = i_step / max_steps if add_steps else None\n",
    "            state_features = state.torch_flatten(\n",
    "                device=device,\n",
    "                include_discarded=add_card_counting,\n",
    "                step_num=step_num\n",
    "            )\n",
    "            if i_step == 0:\n",
    "                bet_percent, _, _ = dqn_model.get_bet_percent(\n",
    "                    state_features, allow_explore=False, num_steps=0\n",
    "                )\n",
    "                outcome = game_wrapper.bet_step(bet_percent)\n",
    "            else:\n",
    "                card_action, _, _ = dqn_model.get_card_action(\n",
    "                    state_features, allow_explore=False, num_steps=0\n",
    "                )\n",
    "                outcome = game_wrapper.card_step(take_card=card_action)\n",
    "            state = outcome.new_state\n",
    "            terminated = outcome.terminated\n",
    "            eps_reward += outcome.reward\n",
    "            if terminated:\n",
    "                break\n",
    "        rewards.append(eps_reward)\n",
    "\n",
    "    mean_reward = np.mean(rewards).item()\n",
    "    median_reward = np.median(rewards).item()\n",
    "    std_reward = np.std(rewards).item()\n",
    "    return mean_reward, median_reward, std_reward"
   ],
   "metadata": {
    "collapsed": false
   }
  },
  {
   "cell_type": "code",
   "execution_count": null,
   "outputs": [],
   "source": [
    "proj_path = os.path.join(os.getcwd(), \"..\")\n",
    "# proj_path = os.getcwd()\n",
    "model_dir = os.path.join(proj_path, \"models\")"
   ],
   "metadata": {
    "collapsed": false
   }
  },
  {
   "cell_type": "code",
   "execution_count": null,
   "outputs": [],
   "source": [
    "num_eps = 1000\n",
    "\n",
    "initial_cash = 10000\n",
    "deck_nums = 8\n",
    "min_bet = 10"
   ],
   "metadata": {
    "collapsed": false
   }
  },
  {
   "cell_type": "code",
   "execution_count": null,
   "outputs": [],
   "source": [
    "dqn_model_paths = [\n",
    "    (os.path.join(model_dir, f), f) for f in os.listdir(model_dir)\n",
    "    if os.path.isfile(os.path.join(model_dir, f)) and f.startswith(\"dqn\") and not f.endswith(\".txt\")\n",
    "]\n",
    "eval_model = BlackjackDQN(\n",
    "    in_features=GameState.get_state_size(),\n",
    "    bet_choices=[0.1, 0.2, 0.3, 0.4, 0.5, 0.6, 0.7, 0.8, 0.9, 1.0],\n",
    "    card_choices=[True, False],\n",
    "    epsilon=0,\n",
    "    min_epsilon=0,\n",
    ")\n",
    "eval_model_with_steps = BlackjackDQN(\n",
    "    in_features=GameState.get_state_size() + 1,\n",
    "    bet_choices=[0.1, 0.2, 0.3, 0.4, 0.5, 0.6, 0.7, 0.8, 0.9, 1.0],\n",
    "    card_choices=[True, False],\n",
    "    epsilon=0,\n",
    "    min_epsilon=0,\n",
    ").eval()\n",
    "\n",
    "\n",
    "for model_path, model_name in dqn_model_paths:\n",
    "    game_wrapper = BlackjackWrapper(\n",
    "        initial_cash=initial_cash,\n",
    "        deck_nums=deck_nums,\n",
    "        min_bet=min_bet,\n",
    "    )\n",
    "    add_step = \"steps\" in model_name\n",
    "    has_card_counting = \"no_counting\" not in model_name\n",
    "    model = eval_model_with_steps if add_step else eval_model\n",
    "    model.load_state_dict(torch.load(model_path, map_location=device))\n",
    "    mean_reward, median_reward, std_reward = evaluate_agent(\n",
    "        game_wrapper=game_wrapper,\n",
    "        dqn_model=model,\n",
    "        num_eps=1000,\n",
    "        add_steps=add_step,\n",
    "        add_card_counting=False,\n",
    "    )\n",
    "    print(\n",
    "        f\"{model_name} (without card counting): \"\n",
    "        f\"{round(mean_reward, 3)} \"\n",
    "        f\"+/- {round(std_reward, 3)}, \"\n",
    "        f\"median: {round(median_reward, 3)}\"\n",
    "    )\n",
    "    if has_card_counting:\n",
    "        mean_reward, median_reward, std_reward = evaluate_agent(\n",
    "            game_wrapper=game_wrapper,\n",
    "            dqn_model=model,\n",
    "            num_eps=1000,\n",
    "            add_steps=add_step,\n",
    "            add_card_counting=True,\n",
    "        )\n",
    "        print(\n",
    "            f\"{model_name} (with card counting): \"\n",
    "            f\"{round(mean_reward, 3)} \"\n",
    "            f\"+/- {round(std_reward, 3)}, \"\n",
    "            f\"median: {round(median_reward, 3)}\"\n",
    "        )"
   ],
   "metadata": {
    "collapsed": false
   }
  },
  {
   "cell_type": "code",
   "execution_count": null,
   "outputs": [],
   "source": [],
   "metadata": {
    "collapsed": false
   }
  }
 ],
 "metadata": {
  "kernelspec": {
   "display_name": "Python 3",
   "language": "python",
   "name": "python3"
  },
  "language_info": {
   "codemirror_mode": {
    "name": "ipython",
    "version": 2
   },
   "file_extension": ".py",
   "mimetype": "text/x-python",
   "name": "python",
   "nbconvert_exporter": "python",
   "pygments_lexer": "ipython2",
   "version": "2.7.6"
  }
 },
 "nbformat": 4,
 "nbformat_minor": 0
}
